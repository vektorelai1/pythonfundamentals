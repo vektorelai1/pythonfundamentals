{
  "cells": [
    {
      "cell_type": "markdown",
      "metadata": {
        "id": "tiWwSQ5R60dz"
      },
      "source": [
        "# Python Programlama Dili"
      ]
    },
    {
      "cell_type": "markdown",
      "metadata": {
        "id": "8DkqmNjr63iR"
      },
      "source": [
        "## Değişkenler"
      ]
    },
    {
      "cell_type": "markdown",
      "metadata": {
        "id": "sSqN_jpA66ER"
      },
      "source": [
        "1. int\n",
        "2. float\n",
        "3. complex\n",
        "4. str\n",
        "5. list\n",
        "6. tuple\n",
        "7. dict\n",
        "8. set\n",
        "9. bool"
      ]
    },
    {
      "cell_type": "markdown",
      "metadata": {
        "id": "NrqQ3EVK8TVC"
      },
      "source": [
        "------\n",
        "Sayısal Veri Tipleri"
      ]
    },
    {
      "cell_type": "code",
      "execution_count": null,
      "metadata": {
        "id": "Y-n-JViC6ufq"
      },
      "outputs": [],
      "source": [
        "var1 = 25 # int\n",
        "var2 = 25.0 # float\n",
        "var3 = 1.2 + 2j # complex\n"
      ]
    },
    {
      "cell_type": "markdown",
      "metadata": {
        "id": "i7KzGnng8WTC"
      },
      "source": [
        "----------\n",
        "Dizi Veri Tipleri"
      ]
    },
    {
      "cell_type": "code",
      "execution_count": null,
      "metadata": {
        "id": "Rlk6u0jivLlE"
      },
      "outputs": [],
      "source": [
        "var4 = \"Vektorel\" # str\n",
        "#       01234567\n",
        "var5 = [print,1,1.2,[1,2,3,],(1,2,3),{},] # list\n",
        "var6 = (print,1,1.2,[1,2,3,],(1,2,3),{},) # tuple"
      ]
    },
    {
      "cell_type": "markdown",
      "metadata": {
        "id": "FO60iGfz823b"
      },
      "source": [
        "--------\n",
        "Mapping Veri Tipi"
      ]
    },
    {
      "cell_type": "code",
      "execution_count": null,
      "metadata": {
        "colab": {
          "base_uri": "https://localhost:8080/",
          "height": 36
        },
        "id": "n0ve6ZMM8x_T",
        "outputId": "6bc66f45-63a9-4e11-cce3-c00d30775ef4"
      },
      "outputs": [],
      "source": [
        "var7 = {\"1\":\"Bir\"} # dict\n",
        "var7[\"1\"]"
      ]
    },
    {
      "cell_type": "markdown",
      "metadata": {
        "id": "Y-ZH1fn29MgC"
      },
      "source": [
        "-----------\n",
        "Diğerleri"
      ]
    },
    {
      "cell_type": "code",
      "execution_count": null,
      "metadata": {
        "id": "sCrnGKjW9MBm"
      },
      "outputs": [],
      "source": [
        "var8 = {1,2,3,4,5} # set\n",
        "var9 = True # bool"
      ]
    },
    {
      "cell_type": "markdown",
      "metadata": {
        "id": "Y_xVMnkL9pQ6"
      },
      "source": [
        "Değişkenleri tanımlarken anahtar kelime kullanmamalıyız"
      ]
    },
    {
      "cell_type": "code",
      "execution_count": null,
      "metadata": {
        "id": "IvxJhO0U9dMr"
      },
      "outputs": [],
      "source": [
        "import keyword\n",
        "keyword.kwlist"
      ]
    },
    {
      "cell_type": "markdown",
      "metadata": {
        "id": "xTJDoLMu9t0h"
      },
      "source": [
        "Değişkenleri genel olarak tanıyalım"
      ]
    },
    {
      "cell_type": "code",
      "execution_count": null,
      "metadata": {
        "colab": {
          "base_uri": "https://localhost:8080/"
        },
        "id": "nFO_EH909tIG",
        "outputId": "c2e4fbb9-b93a-4162-b956-1b4891828232"
      },
      "outputs": [],
      "source": [
        "a = 5\n",
        "a"
      ]
    },
    {
      "cell_type": "code",
      "execution_count": null,
      "metadata": {
        "colab": {
          "base_uri": "https://localhost:8080/"
        },
        "id": "AtOUkY_L-K1P",
        "outputId": "2c37985e-43ff-49d0-a7c4-6e6a8e7f65e2"
      },
      "outputs": [],
      "source": [
        "a"
      ]
    },
    {
      "cell_type": "code",
      "execution_count": null,
      "metadata": {
        "colab": {
          "base_uri": "https://localhost:8080/",
          "height": 36
        },
        "id": "mLWFJTuc-j8y",
        "outputId": "d1991d01-dde4-46a1-d434-c6172a695940"
      },
      "outputs": [],
      "source": [
        "metin = \"Vektorel\"\n",
        "#        01234567\n",
        "#       -8-7-6-5-4-3-2-1\n",
        "metin[0]"
      ]
    },
    {
      "cell_type": "code",
      "execution_count": null,
      "metadata": {
        "colab": {
          "base_uri": "https://localhost:8080/",
          "height": 36
        },
        "id": "1IUcbngG_yFD",
        "outputId": "54476c0a-c1c9-4880-eddc-402cee059f40"
      },
      "outputs": [],
      "source": [
        "metin[0:4]"
      ]
    },
    {
      "cell_type": "code",
      "execution_count": null,
      "metadata": {
        "colab": {
          "base_uri": "https://localhost:8080/",
          "height": 36
        },
        "id": "MowiJzgBALKy",
        "outputId": "5cfbd9f9-c724-480b-832c-d577351cceb5"
      },
      "outputs": [],
      "source": [
        "metin[:4]"
      ]
    },
    {
      "cell_type": "code",
      "execution_count": null,
      "metadata": {
        "colab": {
          "base_uri": "https://localhost:8080/",
          "height": 36
        },
        "id": "wwrSooQe_27D",
        "outputId": "29456f76-7ad8-4569-b26e-fe23653f1ead"
      },
      "outputs": [],
      "source": [
        "metin[-8:]"
      ]
    },
    {
      "cell_type": "code",
      "execution_count": null,
      "metadata": {
        "colab": {
          "base_uri": "https://localhost:8080/",
          "height": 36
        },
        "id": "Q0eA9YxVABKr",
        "outputId": "3a72a18d-436e-4512-99a9-c2e40b3e638a"
      },
      "outputs": [],
      "source": [
        "metin = \"Yaşamak\"\n",
        "metin[::2] # 0 2 4 6"
      ]
    },
    {
      "cell_type": "code",
      "execution_count": null,
      "metadata": {
        "colab": {
          "base_uri": "https://localhost:8080/",
          "height": 36
        },
        "id": "fMMQ_GP1AUG7",
        "outputId": "58264d74-4355-4910-cf1e-7f14fea545fd"
      },
      "outputs": [],
      "source": [
        "metin[0:7:2]"
      ]
    },
    {
      "cell_type": "code",
      "execution_count": 1,
      "metadata": {},
      "outputs": [
        {
          "data": {
            "text/plain": [
              "'Bir'"
            ]
          },
          "execution_count": 1,
          "metadata": {},
          "output_type": "execute_result"
        }
      ],
      "source": [
        "sozluk = {\"1\":\"Bir\",\"2\":\"İki\"}\n",
        "#         key:value\n",
        "sozluk[\"1\"]\n",
        "sozluk = {\"1\":\"Bir\",\"2\":\"İki\"}"
      ]
    },
    {
      "cell_type": "markdown",
      "metadata": {},
      "source": [
        "immutable ve mutable kavramı"
      ]
    },
    {
      "cell_type": "code",
      "execution_count": 3,
      "metadata": {},
      "outputs": [
        {
          "ename": "TypeError",
          "evalue": "'str' object does not support item assignment",
          "output_type": "error",
          "traceback": [
            "\u001b[1;31m---------------------------------------------------------------------------\u001b[0m",
            "\u001b[1;31mTypeError\u001b[0m                                 Traceback (most recent call last)",
            "Cell \u001b[1;32mIn[3], line 2\u001b[0m\n\u001b[0;32m      1\u001b[0m metin \u001b[39m=\u001b[39m \u001b[39m\"\u001b[39m\u001b[39mVektorel\u001b[39m\u001b[39m\"\u001b[39m\n\u001b[1;32m----> 2\u001b[0m metin[\u001b[39m0\u001b[39;49m] \u001b[39m=\u001b[39m \u001b[39m\"\u001b[39m\u001b[39mv\u001b[39m\u001b[39m\"\u001b[39m\n",
            "\u001b[1;31mTypeError\u001b[0m: 'str' object does not support item assignment"
          ]
        }
      ],
      "source": [
        "metin = \"Vektorel\"\n",
        "metin[0] = \"v\""
      ]
    },
    {
      "cell_type": "code",
      "execution_count": 4,
      "metadata": {},
      "outputs": [
        {
          "ename": "TypeError",
          "evalue": "'tuple' object does not support item assignment",
          "output_type": "error",
          "traceback": [
            "\u001b[1;31m---------------------------------------------------------------------------\u001b[0m",
            "\u001b[1;31mTypeError\u001b[0m                                 Traceback (most recent call last)",
            "Cell \u001b[1;32mIn[4], line 2\u001b[0m\n\u001b[0;32m      1\u001b[0m demet \u001b[39m=\u001b[39m (\u001b[39m1\u001b[39m,\u001b[39m2\u001b[39m,\u001b[39m3\u001b[39m,\u001b[39m4\u001b[39m)\n\u001b[1;32m----> 2\u001b[0m demet[\u001b[39m1\u001b[39;49m] \u001b[39m=\u001b[39m \u001b[39m200\u001b[39m\n",
            "\u001b[1;31mTypeError\u001b[0m: 'tuple' object does not support item assignment"
          ]
        }
      ],
      "source": [
        "demet = (1,2,3,4)\n",
        "demet[1] = 200"
      ]
    },
    {
      "cell_type": "markdown",
      "metadata": {},
      "source": [
        "çünkü str ve tuple veri tipleri immutable veri tipleridir"
      ]
    },
    {
      "cell_type": "code",
      "execution_count": 5,
      "metadata": {},
      "outputs": [
        {
          "data": {
            "text/plain": [
              "[100, 2, 3, 4]"
            ]
          },
          "execution_count": 5,
          "metadata": {},
          "output_type": "execute_result"
        }
      ],
      "source": [
        "liste = [1,2,3,4]\n",
        "liste[0] = 100\n",
        "liste"
      ]
    },
    {
      "cell_type": "markdown",
      "metadata": {},
      "source": [
        "çünkü liste bir mutable veri tipidir"
      ]
    },
    {
      "cell_type": "markdown",
      "metadata": {},
      "source": [
        "Not: sözlük veri tipinde anahtar kısmında immutable veri tipleri ve sayısal veri tipleri kullanılabilir \n",
        "```\n",
        "var1 = {1:\"Bir\"} # ok\n",
        "var1 = {\"1\":\"Bir\"} # ok\n",
        "var1 = {[1]:\"Bir\"} # NOT ok\n",
        "```"
      ]
    },
    {
      "cell_type": "code",
      "execution_count": null,
      "metadata": {},
      "outputs": [],
      "source": []
    }
  ],
  "metadata": {
    "colab": {
      "provenance": []
    },
    "kernelspec": {
      "display_name": "Python 3",
      "name": "python3"
    },
    "language_info": {
      "codemirror_mode": {
        "name": "ipython",
        "version": 3
      },
      "file_extension": ".py",
      "mimetype": "text/x-python",
      "name": "python",
      "nbconvert_exporter": "python",
      "pygments_lexer": "ipython3",
      "version": "3.10.6"
    }
  },
  "nbformat": 4,
  "nbformat_minor": 0
}
