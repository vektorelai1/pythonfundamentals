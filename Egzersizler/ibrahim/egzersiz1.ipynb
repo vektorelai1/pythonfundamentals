{
 "cells": [
  {
   "cell_type": "markdown",
   "metadata": {},
   "source": [
    "girilen metin içerisindeki büyük harf ve küçük harf sayısını ekrana yazdıran python fonksiyonunu yazınız.\n",
    "kullanılabilecek kod blokları\n",
    "1. for \n",
    "2. harf.isupper fonksiyonu\n",
    "3. liste"
   ]
  },
  {
   "cell_type": "code",
   "execution_count": 2,
   "metadata": {},
   "outputs": [
    {
     "data": {
      "text/plain": [
       "(1, 10)"
      ]
     },
     "execution_count": 2,
     "metadata": {},
     "output_type": "execute_result"
    }
   ],
   "source": [
    "def fonk(metin):\n",
    "    return len([i for i in metin if i.isupper()]),len([i for i in metin if i.islower()])\n",
    "\n",
    "fonk(\"Tripanazomi\")"
   ]
  },
  {
   "cell_type": "code",
   "execution_count": 8,
   "metadata": {},
   "outputs": [
    {
     "data": {
      "text/plain": [
       "(1, 10)"
      ]
     },
     "execution_count": 8,
     "metadata": {},
     "output_type": "execute_result"
    }
   ],
   "source": [
    "metin = \"Tripanazomi\"\n",
    "len(list(filter(str.isupper,metin)))\n",
    "len(list(filter(str.islower,metin)))"
   ]
  },
  {
   "cell_type": "code",
   "execution_count": 9,
   "metadata": {},
   "outputs": [
    {
     "data": {
      "text/plain": [
       "Counter({' ': 73,\n",
       "         'a': 55,\n",
       "         'e': 46,\n",
       "         'r': 44,\n",
       "         'ı': 38,\n",
       "         'n': 32,\n",
       "         'l': 32,\n",
       "         'i': 29,\n",
       "         'm': 28,\n",
       "         's': 20,\n",
       "         'd': 20,\n",
       "         't': 18,\n",
       "         'k': 17,\n",
       "         'u': 16,\n",
       "         'y': 14,\n",
       "         'ü': 11,\n",
       "         'o': 10,\n",
       "         'b': 10,\n",
       "         'p': 9,\n",
       "         'z': 8,\n",
       "         'ş': 8,\n",
       "         'g': 6,\n",
       "         'L': 5,\n",
       "         'I': 4,\n",
       "         '.': 4,\n",
       "         ',': 3,\n",
       "         'v': 3,\n",
       "         'c': 3,\n",
       "         'ğ': 3,\n",
       "         '0': 3,\n",
       "         'ç': 3,\n",
       "         '\\n': 2,\n",
       "         'h': 2,\n",
       "         '1': 2,\n",
       "         \"'\": 2,\n",
       "         'f': 1,\n",
       "         '5': 1,\n",
       "         'B': 1,\n",
       "         '9': 1,\n",
       "         '6': 1,\n",
       "         'j': 1,\n",
       "         'A': 1,\n",
       "         'P': 1,\n",
       "         'M': 1})"
      ]
     },
     "execution_count": 9,
     "metadata": {},
     "output_type": "execute_result"
    }
   ],
   "source": [
    "metin = \"\"\"\n",
    "Lorem Ipsum, dizgi ve baskı endüstrisinde kullanılan mıgır metinlerdir. Lorem Ipsum, adı bilinmeyen bir matbaacının bir hurufat numune kitabı oluşturmak üzere bir yazı galerisini alarak karıştırdığı 1500'lerden beri endüstri standardı sahte metinler olarak kullanılmıştır. Beşyüz yıl boyunca varlığını sürdürmekle kalmamış, aynı zamanda pek değişmeden elektronik dizgiye de sıçramıştır. 1960'larda Lorem Ipsum pasajları da içeren Letraset yapraklarının yayınlanması ile ve yakın zamanda Aldus PageMaker gibi Lorem Ipsum sürümleri içeren masaüstü yayıncılık yazılımları ile popüler olmuştur.\n",
    "\"\"\"\n",
    "from collections import Counter\n",
    "Counter(metin)"
   ]
  },
  {
   "cell_type": "code",
   "execution_count": 13,
   "metadata": {},
   "outputs": [
    {
     "data": {
      "text/plain": [
       "Counter({'lorem': 4,\n",
       "         'bir': 3,\n",
       "         'ipsum,': 2,\n",
       "         've': 2,\n",
       "         'zamanda': 2,\n",
       "         'ipsum': 2,\n",
       "         'içeren': 2,\n",
       "         'ile': 2,\n",
       "         'dizgi': 1,\n",
       "         'baskı': 1,\n",
       "         'endüstrisinde': 1,\n",
       "         'kullanılan': 1,\n",
       "         'mıgır': 1,\n",
       "         'metinlerdir.': 1,\n",
       "         'adı': 1,\n",
       "         'bilinmeyen': 1,\n",
       "         'matbaacının': 1,\n",
       "         'hurufat': 1,\n",
       "         'numune': 1,\n",
       "         'kitabı': 1,\n",
       "         'oluşturmak': 1,\n",
       "         'üzere': 1,\n",
       "         'yazı': 1,\n",
       "         'galerisini': 1,\n",
       "         'alarak': 1,\n",
       "         'karıştırdığı': 1,\n",
       "         \"1500'lerden\": 1,\n",
       "         'beri': 1,\n",
       "         'endüstri': 1,\n",
       "         'standardı': 1,\n",
       "         'sahte': 1,\n",
       "         'metinler': 1,\n",
       "         'olarak': 1,\n",
       "         'kullanılmıştır.': 1,\n",
       "         'beşyüz': 1,\n",
       "         'yıl': 1,\n",
       "         'boyunca': 1,\n",
       "         'varlığını': 1,\n",
       "         'sürdürmekle': 1,\n",
       "         'kalmamış,': 1,\n",
       "         'aynı': 1,\n",
       "         'pek': 1,\n",
       "         'değişmeden': 1,\n",
       "         'elektronik': 1,\n",
       "         'dizgiye': 1,\n",
       "         'de': 1,\n",
       "         'sıçramıştır.': 1,\n",
       "         \"1960'larda\": 1,\n",
       "         'pasajları': 1,\n",
       "         'da': 1,\n",
       "         'letraset': 1,\n",
       "         'yapraklarının': 1,\n",
       "         'yayınlanması': 1,\n",
       "         'yakın': 1,\n",
       "         'aldus': 1,\n",
       "         'pagemaker': 1,\n",
       "         'gibi': 1,\n",
       "         'sürümleri': 1,\n",
       "         'masaüstü': 1,\n",
       "         'yayıncılık': 1,\n",
       "         'yazılımları': 1,\n",
       "         'popüler': 1,\n",
       "         'olmuştur.': 1})"
      ]
     },
     "execution_count": 13,
     "metadata": {},
     "output_type": "execute_result"
    }
   ],
   "source": [
    "Counter(map(str.lower,metin.split()))"
   ]
  },
  {
   "cell_type": "code",
   "execution_count": null,
   "metadata": {},
   "outputs": [],
   "source": []
  }
 ],
 "metadata": {
  "kernelspec": {
   "display_name": "env",
   "language": "python",
   "name": "python3"
  },
  "language_info": {
   "codemirror_mode": {
    "name": "ipython",
    "version": 3
   },
   "file_extension": ".py",
   "mimetype": "text/x-python",
   "name": "python",
   "nbconvert_exporter": "python",
   "pygments_lexer": "ipython3",
   "version": "3.10.6"
  },
  "orig_nbformat": 4
 },
 "nbformat": 4,
 "nbformat_minor": 2
}
