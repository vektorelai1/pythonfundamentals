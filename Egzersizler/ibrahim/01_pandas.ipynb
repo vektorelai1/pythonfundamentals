{
 "cells": [
  {
   "cell_type": "markdown",
   "metadata": {},
   "source": [
    "Egzersiz\n",
    "1. Pandas Kütüphanesini içeri aktarın\n",
    "2. 1 den 10 a kadar olan sayıları bir seri olarak tanımlayın\n",
    "3. bu sayıların karesini bir seri olarak tanımlayın\n",
    "4. "
   ]
  },
  {
   "cell_type": "markdown",
   "metadata": {},
   "source": [
    "Egzersiz\n",
    "1. Pandas Kütüphanesini içeri aktarın\n",
    "2. 1 den 10 a kadar olan sayıları bir seri olarak tanımlayın\n",
    "3. bu sayıların karesini bir seri olarak tanımlayın\n",
    "4. Bu iki seriyi birl"
   ]
  },
  {
   "cell_type": "code",
   "execution_count": null,
   "metadata": {},
   "outputs": [],
   "source": []
  }
 ],
 "metadata": {
  "language_info": {
   "name": "python"
  },
  "orig_nbformat": 4
 },
 "nbformat": 4,
 "nbformat_minor": 2
}
