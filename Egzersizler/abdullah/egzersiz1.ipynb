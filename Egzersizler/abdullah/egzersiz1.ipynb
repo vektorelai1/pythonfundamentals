{
 "cells": [
  {
   "cell_type": "code",
   "execution_count": 9,
   "metadata": {},
   "outputs": [
    {
     "name": "stdout",
     "output_type": "stream",
     "text": [
      "Büyük harf sayısı:1\n",
      "Küçük harf sayısı:4\n"
     ]
    }
   ],
   "source": [
    "str1='Hello'\n",
    "b=0\n",
    "k=0\n",
    "for i in str1:\n",
    "    if i.isupper():\n",
    "        b=b+1\n",
    "    elif i.islower():\n",
    "        k=k+1\n",
    "\n",
    "print(\"Büyük harf sayısı:\"+str(b))\n",
    "print(\"Küçük harf sayısı:\"+str(k))\n"
   ]
  }
 ],
 "metadata": {
  "kernelspec": {
   "display_name": "env",
   "language": "python",
   "name": "python3"
  },
  "language_info": {
   "codemirror_mode": {
    "name": "ipython",
    "version": 3
   },
   "file_extension": ".py",
   "mimetype": "text/x-python",
   "name": "python",
   "nbconvert_exporter": "python",
   "pygments_lexer": "ipython3",
   "version": "3.10.6"
  },
  "orig_nbformat": 4
 },
 "nbformat": 4,
 "nbformat_minor": 2
}
